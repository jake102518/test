{
  "nbformat": 4,
  "nbformat_minor": 0,
  "metadata": {
    "colab": {
      "name": "Untitled1.ipynb",
      "provenance": [],
      "authorship_tag": "ABX9TyMfyCbuKlHO8eL2jn+Wqzkq",
      "include_colab_link": true
    },
    "kernelspec": {
      "name": "python3",
      "display_name": "Python 3"
    }
  },
  "cells": [
    {
      "cell_type": "markdown",
      "metadata": {
        "id": "view-in-github",
        "colab_type": "text"
      },
      "source": [
        "<a href=\"https://colab.research.google.com/github/jake102518/test/blob/master/Untitled1.ipynb\" target=\"_parent\"><img src=\"https://colab.research.google.com/assets/colab-badge.svg\" alt=\"Open In Colab\"/></a>"
      ]
    },
    {
      "cell_type": "code",
      "metadata": {
        "id": "LgCAn7ChWgIo",
        "colab_type": "code",
        "colab": {
          "base_uri": "https://localhost:8080/",
          "height": 34
        },
        "outputId": "4491e9d2-2d19-4a06-8690-af4f7647cb8e"
      },
      "source": [
        "!ls"
      ],
      "execution_count": 2,
      "outputs": [
        {
          "output_type": "stream",
          "text": [
            "drive  sample_data\n"
          ],
          "name": "stdout"
        }
      ]
    },
    {
      "cell_type": "markdown",
      "metadata": {
        "id": "VKCFwbyYXFYS",
        "colab_type": "text"
      },
      "source": [
        ""
      ]
    },
    {
      "cell_type": "code",
      "metadata": {
        "id": "smaCkibFWnpE",
        "colab_type": "code",
        "colab": {
          "base_uri": "https://localhost:8080/",
          "height": 125
        },
        "outputId": "f553fce9-ecd8-4120-f442-a6ce3287fa7c"
      },
      "source": [
        "from google.colab import drive\n",
        "drive.mount('/content/drive')"
      ],
      "execution_count": 1,
      "outputs": [
        {
          "output_type": "stream",
          "text": [
            "Go to this URL in a browser: https://accounts.google.com/o/oauth2/auth?client_id=947318989803-6bn6qk8qdgf4n4g3pfee6491hc0brc4i.apps.googleusercontent.com&redirect_uri=urn%3aietf%3awg%3aoauth%3a2.0%3aoob&response_type=code&scope=email%20https%3a%2f%2fwww.googleapis.com%2fauth%2fdocs.test%20https%3a%2f%2fwww.googleapis.com%2fauth%2fdrive%20https%3a%2f%2fwww.googleapis.com%2fauth%2fdrive.photos.readonly%20https%3a%2f%2fwww.googleapis.com%2fauth%2fpeopleapi.readonly\n",
            "\n",
            "Enter your authorization code:\n",
            "··········\n",
            "Mounted at /content/drive\n"
          ],
          "name": "stdout"
        }
      ]
    },
    {
      "cell_type": "code",
      "metadata": {
        "id": "pPpVPrcgXF_e",
        "colab_type": "code",
        "colab": {
          "base_uri": "https://localhost:8080/",
          "height": 34
        },
        "outputId": "c3933910-f34b-4247-a5a9-0d857fc45630"
      },
      "source": [
        "! drive"
      ],
      "execution_count": 3,
      "outputs": [
        {
          "output_type": "stream",
          "text": [
            "/bin/bash: drive: command not found\n"
          ],
          "name": "stdout"
        }
      ]
    },
    {
      "cell_type": "code",
      "metadata": {
        "id": "vEXTrUTzXIFh",
        "colab_type": "code",
        "colab": {
          "base_uri": "https://localhost:8080/",
          "height": 34
        },
        "outputId": "3ffca49e-5175-4233-8aa1-627a5d4b2e94"
      },
      "source": [
        "cd drive"
      ],
      "execution_count": 4,
      "outputs": [
        {
          "output_type": "stream",
          "text": [
            "/content/drive\n"
          ],
          "name": "stdout"
        }
      ]
    },
    {
      "cell_type": "code",
      "metadata": {
        "id": "FEAwaXu7XKNy",
        "colab_type": "code",
        "colab": {
          "base_uri": "https://localhost:8080/",
          "height": 34
        },
        "outputId": "687be37b-61cb-40f7-c664-9b88b366e895"
      },
      "source": [
        "!ls"
      ],
      "execution_count": 5,
      "outputs": [
        {
          "output_type": "stream",
          "text": [
            "'My Drive'\n"
          ],
          "name": "stdout"
        }
      ]
    },
    {
      "cell_type": "code",
      "metadata": {
        "id": "sEDPwUg0XMAu",
        "colab_type": "code",
        "colab": {
          "base_uri": "https://localhost:8080/",
          "height": 34
        },
        "outputId": "90fc866e-2c04-43fe-8f08-d218540892b0"
      },
      "source": [
        "cd My Drive"
      ],
      "execution_count": 6,
      "outputs": [
        {
          "output_type": "stream",
          "text": [
            "/content/drive/My Drive\n"
          ],
          "name": "stdout"
        }
      ]
    },
    {
      "cell_type": "code",
      "metadata": {
        "id": "KcRXaSCwXOGZ",
        "colab_type": "code",
        "colab": {
          "base_uri": "https://localhost:8080/",
          "height": 1000
        },
        "outputId": "d36c8033-2f53-4652-9382-0ecb8dbdfa86"
      },
      "source": [
        "!ls"
      ],
      "execution_count": 7,
      "outputs": [
        {
          "output_type": "stream",
          "text": [
            "'미술 팀 발표'\n",
            "'국제 동영상'\n",
            " 음악\n",
            "'졸공 직캠'\n",
            "'학생회 골든벨'\n",
            " 얍얍얍\n",
            " 챌린지팀\n",
            " 홍보영상-동영상\n",
            " 뮤직리사이틀-동영상\n",
            "'음성 녹음 018.m4a'\n",
            "'음성 녹음 019.m4a'\n",
            "'음성 녹음 020.m4a'\n",
            "'음성 녹음 021.m4a'\n",
            "'음성 녹음 030_sd.m4a'\n",
            "'음성 녹음 032_sd.m4a'\n",
            "'음성 녹음 033_sd.m4a'\n",
            "'음성 녹음 034_sd.m4a'\n",
            "'음성 녹음 038_sd.m4a'\n",
            "'음성 녹음 039_sd.m4a'\n",
            "'음성 녹음 040_sd.m4a'\n",
            "'음성 녹음 041_sd.m4a'\n",
            "'음성 녹음 042_sd.m4a'\n",
            "'음성 녹음 045_sd.m4a'\n",
            "'음성 녹음 046_sd.m4a'\n",
            "'음성 녹음 048_sd.m4a'\n",
            "'음성 녹음 051_sd.m4a'\n",
            "'수학1(05-14년) 모의고사 단원별 기출문제 해설.pdf'\n",
            "'제목 없는 문서 (10).gdoc'\n",
            "'1-1 경제 창업수행 NMIS.gdoc'\n",
            " 12.mp4\n",
            "'제목 없는 문서 (1).gdoc'\n",
            "'파이썬과 머신러닝 1일차의 사본.gdoc'\n",
            "'제목없는 문서 (1).gdoc'\n",
            "'설문지-제목없음(응답) (1).gsheet'\n",
            "'미래기술Ⅱ 1차시_이재근.hwp'\n",
            " 프레젠테이션1.jpg\n",
            " 1.jpg\n",
            " 슬라이드1.PNG\n",
            " 프레젠테이션1.pptx\n",
            " 20140915_172229.jpg\n",
            " 20140915_172249.jpg\n",
            " 20140915_172302.jpg\n",
            " 20140915_172315.jpg\n",
            " 20140915_172316.jpg\n",
            " 20140915_172324.jpg\n",
            "'20140915_172325(0).jpg'\n",
            " 20140915_172325.jpg\n",
            " 20140915_172331.jpg\n",
            " 20140915_172343.jpg\n",
            " 20140915_172344.jpg\n",
            " 20140915_172359.jpg\n",
            " 20140915_172400.jpg\n",
            " 20140915_172409.jpg\n",
            " 20140915_172443.jpg\n",
            " 20140915_172444.jpg\n",
            " 20140915_172507.jpg\n",
            " 20141204_140905.mp4\n",
            " 20150327_162550.jpg\n",
            "'한과영 수정20150405.hwp'\n",
            " 20150715_132347.jpg\n",
            " 20150721_195333.jpg\n",
            " 2015학년도_3학년_국어_보고서_양식.hwp\n",
            "'(2015 우주기술현황과 미래.pptx'\n",
            " 20160403_004805.jpg\n",
            " 20160615_151810.jpg\n",
            " 20160615_151854.jpg\n",
            " 20160615_151959.jpg\n",
            " 20160615_152035.jpg\n",
            " 20160615_152121.jpg\n",
            " 20160622_163221.jpg\n",
            " 20160622_163330.jpg\n",
            " 20160622_163911.jpg\n",
            " 20160622_164349.jpg\n",
            " 20160622_164453.jpg\n",
            " 20160622_165222.jpg\n",
            " 20160622_165225.jpg\n",
            " 20160622_165454.jpg\n",
            " 20160622_165502.jpg\n",
            " 20160906_184936.mp4\n",
            " 20160911_205055.mp4\n",
            "'2016_HAS_1학기_국어 문법 결승.gdoc'\n",
            "'2학기 도덕 시험범위 요약의 사본 (1).gdoc'\n",
            "'2-5B August 2026 There Will come Soft Rains Audio.mp3'\n",
            "'제목 없는 문서 (2).gdoc'\n",
            "'과제연구 중간 보고서2.gdoc'\n",
            "'제목없는 문서 (2).gdoc'\n",
            "'2학기 미술 기말고사 요약의 사본.gdoc'\n",
            "'2학기 도덕 시험범위 요약의 사본.gdoc'\n",
            "'설문지-제목없음(응답) (2).gsheet'\n",
            "'미래기술Ⅱ 2차시_이재근.hwp'\n",
            " 2.jpg\n",
            " 2ND-2.pptx\n",
            "'2학기 도덕 시험범위 요약의 사본.pdf'\n",
            " 슬라이드2.PNG\n",
            "'2차 Style Fit uni 케이스.gform'\n",
            "'2차 Style Fit uni 리필심 공동구매(응답).gsheet'\n",
            "'30526 이재근 Lee Jae Kun - Short Fiction의 사본.gdoc'\n",
            "'30526 이재근 Lee Jae Kun - Short Fiction.pdf'\n",
            "'제목 없는 문서 (3).gdoc'\n",
            "'제목 없는 문서 (4).gdoc'\n",
            "'제목 없는 문서 (5).gdoc'\n",
            "'제목 없는 문서 (6).gdoc'\n",
            "'7기_이재근_16136_TEch 지원서.hwp'\n",
            "'제목 없는 문서 (7).gdoc'\n",
            "'제목 없는 문서 (8).gdoc'\n",
            "'제목 없는 문서 (9).gdoc'\n",
            "'About Adam Smith (1).pptx'\n",
            "'About Adam Smith (1).pptx.gslides'\n",
            "'About Adam Smith.pptx'\n",
            "'About Adam Smith.pptx.gslides'\n",
            " Abstract.docx\n",
            "'assisted suicide.gdoc'\n",
            "'Audio 2.gform'\n",
            "'Audio .gform'\n",
            "'Chapter 5.ppt'\n",
            "'Chapter XA.docx'\n",
            "'Charlie Puth - Attention.mp3'\n",
            "'Clean Bandit - Dust Clears (Lyrics).mp3'\n",
            "'CL - LIFTED (1).mp3'\n",
            "'CL - LIFTED.mp3'\n",
            "'Colab Notebooks'\n",
            "'David Guetta ft Justin Bieber - 2U.mp3'\n",
            " 자소서.docx\n",
            "'domestic law.docx'\n",
            "'Drake - Controlla.mp3'\n",
            "'Drake - Too Good (ft Rihanna).mp3'\n",
            " DSC07139.JPG\n",
            " DSC07642.JPG\n",
            " d.xps\n",
            " FB_IMG_1437218453079.jpg\n",
            " FB_IMG_1465654333042.jpg\n",
            "'FILE_20150331174948671 (1).JPG'\n",
            " FILE_20150331174948671.JPG\n",
            " filnal.apk\n",
            "'fta좋다 근거.gdoc'\n",
            "'응 아니야.gdoc'\n",
            "'융 질문.gdoc'\n",
            "\"하트 '오늘' 사회.gdoc\"\n",
            "'도서 신문.gdoc'\n",
            "'국어 장마 토론.gdoc'\n",
            "'국어 필기.gdoc'\n",
            "'수학 발표.gdoc'\n",
            "'제목 없는 문서.gdoc'\n",
            "'제목 없음.gdoc'\n",
            "'소설 복사본.gdoc'\n",
            "'씨븐 쎀큐리티 재이쿤.gdoc'\n",
            "'에티켓 동영상.gdoc'\n",
            "'교내대회 추진 계획.gdoc'\n",
            "'심영회 토론.gdoc'\n",
            "'학습부 활동 정리.gdoc'\n",
            "'심영회 휴머러스.gdoc'\n",
            "'미적분 수행평가.gdoc'\n",
            "'생활법 얍.gdoc'\n",
            " 영어사회.gdoc\n",
            " 대화수행.gdoc\n",
            "'제목없는 문서.gdoc'\n",
            "'제목없는 문서의 사본.gdoc'\n",
            "'학습부일까 한글부일까.gdoc'\n",
            "'하나토론대회의 사본.gdoc'\n",
            "'General Chemistry의 사본.gdoc'\n",
            "'미술 전시회 작품 설명 기입.gform'\n",
            "'난민 관련 설문지.gform'\n",
            " 양식-제목없음.gform\n",
            "'목소리에 따른 수업 집중도 조사.gform'\n",
            "'목소리에 따른 수업 집중도 조사의 사본.gform'\n",
            "'익숙한 음악 고르기.gform'\n",
            "'그냥 설문(응답).gsheet'\n",
            "'미술 전시회 작품 설명 기입(응답).gsheet'\n",
            "'난민 관련 설문지(응답).gsheet'\n",
            "'양식-제목없음(응답).gsheet'\n",
            "'설문지-제목없음(응답).gsheet'\n",
            "'목소리에 따른 수업 집중도 조사의 사본(응답).gsheet'\n",
            "'익숙한 음악 고르기(응답).gsheet'\n",
            " ㄷㅊ.gslides\n",
            "'제목 없는 프레젠테이션.gslides'\n",
            "'안전HANA 사전 설문조사.gform'\n",
            "'안전HANA 사전 설문조사의 사본.gform'\n",
            "'안전HANA 안전교육 만족도 조사.gform'\n",
            "'Hell Yeah Economy.gslides'\n",
            " ㅇ.hwp\n",
            "'교내 심리 치유 공간 설치 프로젝트.hwp'\n",
            " 면접예상질문.hwp\n",
            " IHRA_DeathPenaltyReport_Sept2011_Web.pdf\n",
            "'Jonas Blue - By Your Side ft. RAYE.mp3'\n",
            "'Jonas Blue - Fast Car ft. Dakota.mp3'\n",
            "'Jonas Blue - Mama ft. William Singe.mp3'\n",
            "'Jonas Blue - Perfect Strangers ft. JP Cooper.mp3'\n",
            "'로마 진실의입.jpg'\n",
            "'세션 시간표.jpg'\n",
            "'동아리 홍보물.jpg'\n",
            " 노래순서.jpg\n",
            " Message_1529391600127.jpg\n",
            " Message_1529391631767.jpg\n",
            " MoneyManager\n",
            "'MoneyManager (1)'\n",
            " 당가.mp3\n",
            " 녹화.mp4\n",
            " Photo137.jpg\n",
            " Photo138.jpg\n",
            " Photo142.jpg\n",
            " Photo143.jpg\n",
            "'경제 ppt.gslides'\n",
            "'동아리 홍보 포스터.pptx'\n",
            " 학생회골든벨문제.pptx\n",
            "'privacy policy.gdoc'\n",
            " received_875013039275894.jpeg\n",
            "'Rihanna - Needed Me.mp3'\n",
            " Scan_20151104_202036_001.jpg\n",
            " Scan_20151104_202036_002.jpg\n",
            " Scan_20151104_202036_003.jpg\n",
            " Scan_20151104_202036_004.jpg\n",
            " Scan_20151104_202036_005.jpg\n",
            " Scan_20151104_202036_006.jpg\n",
            " Scan_20151104_202036_007.jpg\n",
            " Scan_20151104_202036.jpg\n",
            " Screenshot_2015-04-12-20-08-34.png\n",
            " Screenshot_2015-04-12-20-09-07.png\n",
            " Screenshot_2015-04-12-20-17-21.png\n",
            " Screenshot_2015-04-12-20-17-43.png\n",
            " Screenshot_2015-07-26-22-32-01.png\n",
            " Screenshot_2015-07-26-22-42-50.png\n",
            " Screenshot_2015-11-11-00-19-49.png\n",
            "'Shawn Mendes - Treat You Better.mp3'\n",
            "'Short Fiction Rubric의 사본.gsheet'\n",
            " songsongsong.wav\n",
            "'Style Fit uni 리필심 공동구매 (1).gform'\n",
            "'Style Fit uni 리필심 사본(6 6 오전).gsheet'\n",
            "'Style Fit uni 리필심 공동구매.gform'\n",
            "'Style Fit uni 리필심 공동구매의 사본.gform'\n",
            "'Style Fit uni 리필심 공동구매(응답).gsheet'\n",
            "'Survey About Refugee & Asylum Seekers.gform'\n",
            " temp_1471947705285.1955225795.png\n",
            "'국어 조남현T.gdoc'\n",
            "'국어 조남현T의 사본.gdoc'\n",
            "'The Chainsmokers - Closer ft. Halsey.mp3'\n",
            "'중국어 UCC'\n",
            "'수학 UCC.gdoc'\n",
            "'영어 UCC.gdoc'\n",
            "'정보윤리 UCC.gdoc'\n",
            " 수학UCC.gdoc\n",
            " 수학UCC.mp4\n",
            "'중국어 UCC.zip'\n",
            "'Ultrahydrophobic Water_The REPORT.docx'\n",
            " US20070033134.pdf\n",
            "'Usher - Good Kisser (Lyrics On Screen).mp3'\n",
            "'Vocabulary Deffinition.gdoc'\n",
            " VR,AR.gdoc\n",
            " whynot5.apk\n",
            " Wifi2.jpg\n",
            " WiFi.jpg\n",
            "'오찬 여섯개조 참석자.xlsx'\n",
            "'Yeon-Gi Joong.gdoc'\n",
            " YouCut_20190509_100854908.mp4\n",
            " 영어.zip\n",
            " 포럼공문.zip\n"
          ],
          "name": "stdout"
        }
      ]
    },
    {
      "cell_type": "code",
      "metadata": {
        "id": "t4knHmfaXQcI",
        "colab_type": "code",
        "colab": {
          "base_uri": "https://localhost:8080/",
          "height": 105
        },
        "outputId": "ac0e409a-0cb5-48d8-c13d-ca1922e6baec"
      },
      "source": [
        "!git clone https://github.com/hunter-heidenreich/ML-Open-Source-Implementations.git"
      ],
      "execution_count": 8,
      "outputs": [
        {
          "output_type": "stream",
          "text": [
            "Cloning into 'ML-Open-Source-Implementations'...\n",
            "remote: Enumerating objects: 69, done.\u001b[K\n",
            "remote: Total 69 (delta 0), reused 0 (delta 0), pack-reused 69\u001b[K\n",
            "Unpacking objects: 100% (69/69), done.\n",
            "Checking out files: 100% (33/33), done.\n"
          ],
          "name": "stdout"
        }
      ]
    },
    {
      "cell_type": "code",
      "metadata": {
        "id": "qLtJ0MAIZM9f",
        "colab_type": "code",
        "colab": {}
      },
      "source": [
        ""
      ],
      "execution_count": 0,
      "outputs": []
    }
  ]
}